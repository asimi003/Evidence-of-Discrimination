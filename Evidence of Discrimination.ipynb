{
 "cells": [
  {
   "cell_type": "markdown",
   "metadata": {},
   "source": [
    "# Evidence of Discrimination?\n",
    "\n",
    "The Department of Developmental Services (DDS) in California is responsible for allocating funds to support over 250,000 developmentally-disabled residents. The data set `ca_dds_expenditures.csv` contains data about 1,000 of these residents. The data comes from a discrimination lawsuit which alleged that California's Department of Developmental Services (DDS) privileged white (non-Hispanic) residents over Hispanic residents in allocating funds. We will focus on comparing the allocation of funds (i.e., expenditures) for these two ethnicities only, although there are other ethnicities in this data set.\n",
    "\n",
    "There are 6 variables in this data set:\n",
    "\n",
    "- Id:  5-digit, unique identification code for each consumer (similar to a social security number and used for identification purposes)  \n",
    "- Age Cohort:  Binned age variable represented as six age cohorts (0-5, 6-12, 13-17, 18-21, 22-50, and 51+)\n",
    "- Age:  Unbinned age variable\n",
    "- Gender:  Male or Female\n",
    "- Expenditures:  Dollar amount of annual expenditures spent on each consumer\n",
    "- Ethnicity:  Eight ethnic groups (American Indian, Asian, Black, Hispanic, Multi-race, Native Hawaiian, Other, and White non-Hispanic)"
   ]
  },
  {
   "cell_type": "code",
   "execution_count": 1,
   "metadata": {
    "tags": []
   },
   "outputs": [],
   "source": [
    "import pandas as pd\n",
    "import numpy as np\n",
    "from IPython.core.interactiveshell import InteractiveShell\n",
    "InteractiveShell.ast_node_interactivity = \"all\""
   ]
  },
  {
   "cell_type": "markdown",
   "metadata": {},
   "source": [
    "# Question 1\n",
    "\n",
    "Read in the data set. Make a graphic that compares the _average_ expenditures by the DDS on Hispanic residents and white (non-Hispanic) residents. Comment on what you see."
   ]
  },
  {
   "cell_type": "code",
   "execution_count": 2,
   "metadata": {},
   "outputs": [
    {
     "data": {
      "text/html": [
       "<div>\n",
       "<style scoped>\n",
       "    .dataframe tbody tr th:only-of-type {\n",
       "        vertical-align: middle;\n",
       "    }\n",
       "\n",
       "    .dataframe tbody tr th {\n",
       "        vertical-align: top;\n",
       "    }\n",
       "\n",
       "    .dataframe thead th {\n",
       "        text-align: right;\n",
       "    }\n",
       "</style>\n",
       "<table border=\"1\" class=\"dataframe\">\n",
       "  <thead>\n",
       "    <tr style=\"text-align: right;\">\n",
       "      <th></th>\n",
       "      <th>Id</th>\n",
       "      <th>Age Cohort</th>\n",
       "      <th>Age</th>\n",
       "      <th>Gender</th>\n",
       "      <th>Expenditures</th>\n",
       "      <th>Ethnicity</th>\n",
       "    </tr>\n",
       "  </thead>\n",
       "  <tbody>\n",
       "    <tr>\n",
       "      <th>0</th>\n",
       "      <td>10210</td>\n",
       "      <td>13 to 17</td>\n",
       "      <td>17</td>\n",
       "      <td>Female</td>\n",
       "      <td>2113</td>\n",
       "      <td>White not Hispanic</td>\n",
       "    </tr>\n",
       "    <tr>\n",
       "      <th>1</th>\n",
       "      <td>10409</td>\n",
       "      <td>22 to 50</td>\n",
       "      <td>37</td>\n",
       "      <td>Male</td>\n",
       "      <td>41924</td>\n",
       "      <td>White not Hispanic</td>\n",
       "    </tr>\n",
       "    <tr>\n",
       "      <th>2</th>\n",
       "      <td>10486</td>\n",
       "      <td>0 to 5</td>\n",
       "      <td>3</td>\n",
       "      <td>Male</td>\n",
       "      <td>1454</td>\n",
       "      <td>Hispanic</td>\n",
       "    </tr>\n",
       "    <tr>\n",
       "      <th>3</th>\n",
       "      <td>10538</td>\n",
       "      <td>18 to 21</td>\n",
       "      <td>19</td>\n",
       "      <td>Female</td>\n",
       "      <td>6400</td>\n",
       "      <td>Hispanic</td>\n",
       "    </tr>\n",
       "    <tr>\n",
       "      <th>4</th>\n",
       "      <td>10568</td>\n",
       "      <td>13 to 17</td>\n",
       "      <td>13</td>\n",
       "      <td>Male</td>\n",
       "      <td>4412</td>\n",
       "      <td>White not Hispanic</td>\n",
       "    </tr>\n",
       "    <tr>\n",
       "      <th>...</th>\n",
       "      <td>...</td>\n",
       "      <td>...</td>\n",
       "      <td>...</td>\n",
       "      <td>...</td>\n",
       "      <td>...</td>\n",
       "      <td>...</td>\n",
       "    </tr>\n",
       "    <tr>\n",
       "      <th>992</th>\n",
       "      <td>99114</td>\n",
       "      <td>18 to 21</td>\n",
       "      <td>18</td>\n",
       "      <td>Male</td>\n",
       "      <td>5298</td>\n",
       "      <td>Hispanic</td>\n",
       "    </tr>\n",
       "    <tr>\n",
       "      <th>995</th>\n",
       "      <td>99622</td>\n",
       "      <td>51+</td>\n",
       "      <td>86</td>\n",
       "      <td>Female</td>\n",
       "      <td>57055</td>\n",
       "      <td>White not Hispanic</td>\n",
       "    </tr>\n",
       "    <tr>\n",
       "      <th>996</th>\n",
       "      <td>99715</td>\n",
       "      <td>18 to 21</td>\n",
       "      <td>20</td>\n",
       "      <td>Male</td>\n",
       "      <td>7494</td>\n",
       "      <td>Hispanic</td>\n",
       "    </tr>\n",
       "    <tr>\n",
       "      <th>998</th>\n",
       "      <td>99791</td>\n",
       "      <td>6 to 12</td>\n",
       "      <td>10</td>\n",
       "      <td>Male</td>\n",
       "      <td>3638</td>\n",
       "      <td>Hispanic</td>\n",
       "    </tr>\n",
       "    <tr>\n",
       "      <th>999</th>\n",
       "      <td>99898</td>\n",
       "      <td>22 to 50</td>\n",
       "      <td>23</td>\n",
       "      <td>Male</td>\n",
       "      <td>26702</td>\n",
       "      <td>White not Hispanic</td>\n",
       "    </tr>\n",
       "  </tbody>\n",
       "</table>\n",
       "<p>777 rows × 6 columns</p>\n",
       "</div>"
      ],
      "text/plain": [
       "        Id Age Cohort  Age  Gender  Expenditures           Ethnicity\n",
       "0    10210   13 to 17   17  Female          2113  White not Hispanic\n",
       "1    10409   22 to 50   37    Male         41924  White not Hispanic\n",
       "2    10486     0 to 5    3    Male          1454            Hispanic\n",
       "3    10538   18 to 21   19  Female          6400            Hispanic\n",
       "4    10568   13 to 17   13    Male          4412  White not Hispanic\n",
       "..     ...        ...  ...     ...           ...                 ...\n",
       "992  99114   18 to 21   18    Male          5298            Hispanic\n",
       "995  99622        51+   86  Female         57055  White not Hispanic\n",
       "996  99715   18 to 21   20    Male          7494            Hispanic\n",
       "998  99791    6 to 12   10    Male          3638            Hispanic\n",
       "999  99898   22 to 50   23    Male         26702  White not Hispanic\n",
       "\n",
       "[777 rows x 6 columns]"
      ]
     },
     "execution_count": 2,
     "metadata": {},
     "output_type": "execute_result"
    },
    {
     "data": {
      "text/plain": [
       "Ethnicity\n",
       "Hispanic              11065.569149\n",
       "White not Hispanic    24697.548628\n",
       "Name: Expenditures, dtype: float64"
      ]
     },
     "execution_count": 2,
     "metadata": {},
     "output_type": "execute_result"
    },
    {
     "data": {
      "text/plain": [
       "<AxesSubplot:ylabel='Expenditures'>"
      ]
     },
     "execution_count": 2,
     "metadata": {},
     "output_type": "execute_result"
    },
    {
     "data": {
      "image/png": "[encoded data removed]",
      "text/plain": [
       "<Figure size 432x288 with 1 Axes>"
      ]
     },
     "metadata": {},
     "output_type": "display_data"
    }
   ],
   "source": [
    "# YOUR CODE HERE\n",
    "df = pd.read_csv(\"ca_dds_expenditures.csv\")\n",
    "sub_df = df[(df[\"Ethnicity\"]==\"White not Hispanic\") | (df[\"Ethnicity\"] == \"Hispanic\")]\n",
    "sub_df\n",
    "average = sub_df.groupby(\"Ethnicity\").mean()[\"Expenditures\"]\n",
    "average \n",
    "average.plot.pie()"
   ]
  },
  {
   "cell_type": "markdown",
   "metadata": {},
   "source": [
    "**YOUR EXPLANATION HERE**<br>\n",
    "Here we see that expenditures on the White residents is much larger than the Hispanic residents. It is more than double for White expenditures."
   ]
  },
  {
   "cell_type": "markdown",
   "metadata": {
    "tags": []
   },
   "source": [
    "# Question 2\n",
    "\n",
    "Now, calculate the average expenditures by ethnicity and age cohort. Make a graphic that compares the average expenditure on Hispanic residents and white (non-Hispanic) residents, _within each age cohort_. \n",
    "\n",
    "Comment on what you see. How do these results appear to contradict the results you obtained in Question 1?"
   ]
  },
  {
   "cell_type": "code",
   "execution_count": 3,
   "metadata": {},
   "outputs": [
    {
     "data": {
      "text/html": [
       "<div>\n",
       "<style scoped>\n",
       "    .dataframe tbody tr th:only-of-type {\n",
       "        vertical-align: middle;\n",
       "    }\n",
       "\n",
       "    .dataframe tbody tr th {\n",
       "        vertical-align: top;\n",
       "    }\n",
       "\n",
       "    .dataframe thead tr th {\n",
       "        text-align: left;\n",
       "    }\n",
       "\n",
       "    .dataframe thead tr:last-of-type th {\n",
       "        text-align: right;\n",
       "    }\n",
       "</style>\n",
       "<table border=\"1\" class=\"dataframe\">\n",
       "  <thead>\n",
       "    <tr>\n",
       "      <th></th>\n",
       "      <th colspan=\"2\" halign=\"left\">Expenditures</th>\n",
       "    </tr>\n",
       "    <tr>\n",
       "      <th>Ethnicity</th>\n",
       "      <th>Hispanic</th>\n",
       "      <th>White not Hispanic</th>\n",
       "    </tr>\n",
       "    <tr>\n",
       "      <th>Age Cohort</th>\n",
       "      <th></th>\n",
       "      <th></th>\n",
       "    </tr>\n",
       "  </thead>\n",
       "  <tbody>\n",
       "    <tr>\n",
       "      <th>0 to 5</th>\n",
       "      <td>1393.204545</td>\n",
       "      <td>1366.900000</td>\n",
       "    </tr>\n",
       "    <tr>\n",
       "      <th>13 to 17</th>\n",
       "      <td>3955.281553</td>\n",
       "      <td>3904.358209</td>\n",
       "    </tr>\n",
       "    <tr>\n",
       "      <th>18 to 21</th>\n",
       "      <td>9959.846154</td>\n",
       "      <td>10133.057971</td>\n",
       "    </tr>\n",
       "    <tr>\n",
       "      <th>22 to 50</th>\n",
       "      <td>40924.116279</td>\n",
       "      <td>40187.624060</td>\n",
       "    </tr>\n",
       "    <tr>\n",
       "      <th>51+</th>\n",
       "      <td>55585.000000</td>\n",
       "      <td>52670.424242</td>\n",
       "    </tr>\n",
       "    <tr>\n",
       "      <th>6 to 12</th>\n",
       "      <td>2312.186813</td>\n",
       "      <td>2052.260870</td>\n",
       "    </tr>\n",
       "  </tbody>\n",
       "</table>\n",
       "</div>"
      ],
      "text/plain": [
       "            Expenditures                   \n",
       "Ethnicity       Hispanic White not Hispanic\n",
       "Age Cohort                                 \n",
       "0 to 5       1393.204545        1366.900000\n",
       "13 to 17     3955.281553        3904.358209\n",
       "18 to 21     9959.846154       10133.057971\n",
       "22 to 50    40924.116279       40187.624060\n",
       "51+         55585.000000       52670.424242\n",
       "6 to 12      2312.186813        2052.260870"
      ]
     },
     "execution_count": 3,
     "metadata": {},
     "output_type": "execute_result"
    },
    {
     "data": {
      "text/plain": [
       "<AxesSubplot:xlabel='Age Cohort'>"
      ]
     },
     "execution_count": 3,
     "metadata": {},
     "output_type": "execute_result"
    },
    {
     "data": {
      "image/png": "[encoded data removed]",
      "text/plain": [
       "<Figure size 432x288 with 1 Axes>"
      ]
     },
     "metadata": {
      "needs_background": "light"
     },
     "output_type": "display_data"
    }
   ],
   "source": [
    "# YOUR CODE HERE\n",
    "sub_df = df[(df[\"Ethnicity\"]==\"White not Hispanic\") | (df[\"Ethnicity\"] == \"Hispanic\")]\n",
    "df_temp =sub_df.pivot_table(values=[\"Expenditures\"], index=[\"Age Cohort\"], columns = [\"Ethnicity\"], aggfunc=np.mean)\n",
    "df_temp\n",
    "df_temp.loc[[\"0 to 5\",\"6 to 12\",\"13 to 17\",\"18 to 21\",\"22 to 50\",\"51+\"]].fillna(1).plot.bar()"
   ]
  },
  {
   "cell_type": "markdown",
   "metadata": {},
   "source": [
    "**YOUR EXPLANATION HERE**<br>\n",
    "In this question we actually see that the average expenditures of Hispanic residents is higher than the average Expenditures of White residents within their respective age cohorts. By looking at these results it seems to contradict the data that was given in question 1 because it seems like in almost every age cohort Hispanic residents get the higher average of the expenditure."
   ]
  },
  {
   "cell_type": "markdown",
   "metadata": {
    "tags": []
   },
   "source": [
    "# Question 3\n",
    "\n",
    "Can you explain the discrepancy between the two analyses you conducted above (i.e., Questions 1 and 2)? Try to tell a complete story that interweaves tables, graphics, and explanation.\n",
    "\n",
    "_Hint:_ You might want to consider looking at:\n",
    "\n",
    "- the distributions of ages of Hispanics and whites\n",
    "- the average expenditure as a function of age"
   ]
  },
  {
   "cell_type": "code",
   "execution_count": 4,
   "metadata": {},
   "outputs": [
    {
     "data": {
      "text/html": [
       "<div>\n",
       "<style scoped>\n",
       "    .dataframe tbody tr th:only-of-type {\n",
       "        vertical-align: middle;\n",
       "    }\n",
       "\n",
       "    .dataframe tbody tr th {\n",
       "        vertical-align: top;\n",
       "    }\n",
       "\n",
       "    .dataframe thead tr th {\n",
       "        text-align: left;\n",
       "    }\n",
       "\n",
       "    .dataframe thead tr:last-of-type th {\n",
       "        text-align: right;\n",
       "    }\n",
       "</style>\n",
       "<table border=\"1\" class=\"dataframe\">\n",
       "  <thead>\n",
       "    <tr>\n",
       "      <th></th>\n",
       "      <th colspan=\"6\" halign=\"left\">Expenditures</th>\n",
       "    </tr>\n",
       "    <tr>\n",
       "      <th>Age Cohort</th>\n",
       "      <th>0 to 5</th>\n",
       "      <th>13 to 17</th>\n",
       "      <th>18 to 21</th>\n",
       "      <th>22 to 50</th>\n",
       "      <th>51+</th>\n",
       "      <th>6 to 12</th>\n",
       "    </tr>\n",
       "    <tr>\n",
       "      <th>Ethnicity</th>\n",
       "      <th></th>\n",
       "      <th></th>\n",
       "      <th></th>\n",
       "      <th></th>\n",
       "      <th></th>\n",
       "      <th></th>\n",
       "    </tr>\n",
       "  </thead>\n",
       "  <tbody>\n",
       "    <tr>\n",
       "      <th>Hispanic</th>\n",
       "      <td>44</td>\n",
       "      <td>99</td>\n",
       "      <td>78</td>\n",
       "      <td>43</td>\n",
       "      <td>17</td>\n",
       "      <td>90</td>\n",
       "    </tr>\n",
       "    <tr>\n",
       "      <th>White not Hispanic</th>\n",
       "      <td>20</td>\n",
       "      <td>67</td>\n",
       "      <td>69</td>\n",
       "      <td>132</td>\n",
       "      <td>66</td>\n",
       "      <td>46</td>\n",
       "    </tr>\n",
       "  </tbody>\n",
       "</table>\n",
       "</div>"
      ],
      "text/plain": [
       "                   Expenditures                                       \n",
       "Age Cohort               0 to 5 13 to 17 18 to 21 22 to 50 51+ 6 to 12\n",
       "Ethnicity                                                             \n",
       "Hispanic                     44       99       78       43  17      90\n",
       "White not Hispanic           20       67       69      132  66      46"
      ]
     },
     "execution_count": 4,
     "metadata": {},
     "output_type": "execute_result"
    },
    {
     "data": {
      "text/html": [
       "<div>\n",
       "<style scoped>\n",
       "    .dataframe tbody tr th:only-of-type {\n",
       "        vertical-align: middle;\n",
       "    }\n",
       "\n",
       "    .dataframe tbody tr th {\n",
       "        vertical-align: top;\n",
       "    }\n",
       "\n",
       "    .dataframe thead tr th {\n",
       "        text-align: left;\n",
       "    }\n",
       "\n",
       "    .dataframe thead tr:last-of-type th {\n",
       "        text-align: right;\n",
       "    }\n",
       "</style>\n",
       "<table border=\"1\" class=\"dataframe\">\n",
       "  <thead>\n",
       "    <tr>\n",
       "      <th></th>\n",
       "      <th colspan=\"6\" halign=\"left\">Expenditures</th>\n",
       "    </tr>\n",
       "    <tr>\n",
       "      <th>Age Cohort</th>\n",
       "      <th>0 to 5</th>\n",
       "      <th>13 to 17</th>\n",
       "      <th>18 to 21</th>\n",
       "      <th>22 to 50</th>\n",
       "      <th>51+</th>\n",
       "      <th>6 to 12</th>\n",
       "    </tr>\n",
       "    <tr>\n",
       "      <th>Ethnicity</th>\n",
       "      <th></th>\n",
       "      <th></th>\n",
       "      <th></th>\n",
       "      <th></th>\n",
       "      <th></th>\n",
       "      <th></th>\n",
       "    </tr>\n",
       "  </thead>\n",
       "  <tbody>\n",
       "    <tr>\n",
       "      <th>Hispanic</th>\n",
       "      <td>284517.0</td>\n",
       "      <td>881381.0</td>\n",
       "      <td>10438820.0</td>\n",
       "      <td>41823312.0</td>\n",
       "      <td>29051737.0</td>\n",
       "      <td>677945.0</td>\n",
       "    </tr>\n",
       "    <tr>\n",
       "      <th>White not Hispanic</th>\n",
       "      <td>513005.0</td>\n",
       "      <td>1147087.0</td>\n",
       "      <td>7320875.0</td>\n",
       "      <td>36982597.0</td>\n",
       "      <td>41276367.0</td>\n",
       "      <td>710251.0</td>\n",
       "    </tr>\n",
       "  </tbody>\n",
       "</table>\n",
       "</div>"
      ],
      "text/plain": [
       "                   Expenditures                                     \\\n",
       "Age Cohort               0 to 5   13 to 17    18 to 21    22 to 50   \n",
       "Ethnicity                                                            \n",
       "Hispanic               284517.0   881381.0  10438820.0  41823312.0   \n",
       "White not Hispanic     513005.0  1147087.0   7320875.0  36982597.0   \n",
       "\n",
       "                                          \n",
       "Age Cohort                 51+   6 to 12  \n",
       "Ethnicity                                 \n",
       "Hispanic            29051737.0  677945.0  \n",
       "White not Hispanic  41276367.0  710251.0  "
      ]
     },
     "execution_count": 4,
     "metadata": {},
     "output_type": "execute_result"
    },
    {
     "name": "stdout",
     "output_type": "stream",
     "text": [
      "244292118.800539\n",
      "424540323.66825426\n"
     ]
    },
    {
     "name": "stderr",
     "output_type": "stream",
     "text": [
      "/var/folders/_2/wd1wq27s6k71gfy42s_1y5880000gn/T/ipykernel_30881/2464058564.py:7: FutureWarning: Dropping of nuisance columns in DataFrame reductions (with 'numeric_only=None') is deprecated; in a future version this will raise TypeError.  Select only valid columns before calling the reduction.\n",
      "  print(df[(df[\"Ethnicity\"]==\"Hispanic\")].var()['Expenditures'])\n",
      "/var/folders/_2/wd1wq27s6k71gfy42s_1y5880000gn/T/ipykernel_30881/2464058564.py:8: FutureWarning: Dropping of nuisance columns in DataFrame reductions (with 'numeric_only=None') is deprecated; in a future version this will raise TypeError.  Select only valid columns before calling the reduction.\n",
      "  print(df[(df[\"Ethnicity\"]==\"White not Hispanic\")].var()['Expenditures'])\n"
     ]
    }
   ],
   "source": [
    "# YOUR CODE HERE (although you may want to add more code cells)\n",
    "var_df = df[(df[\"Ethnicity\"]==\"White not Hispanic\") | (df[\"Ethnicity\"] == \"Hispanic\")]\n",
    "count_temp =var_df.pivot_table(values=[\"Expenditures\"], index=[\"Ethnicity\"], columns = [\"Age Cohort\"], aggfunc=pd.Series.nunique)\n",
    "count_temp\n",
    "df_temp =var_df.pivot_table(values=[\"Expenditures\"], index=[\"Ethnicity\"], columns = [\"Age Cohort\"], aggfunc=np.var).fillna(0).round()\n",
    "df_temp\n",
    "print(df[(df[\"Ethnicity\"]==\"Hispanic\")].var()['Expenditures'])\n",
    "print(df[(df[\"Ethnicity\"]==\"White not Hispanic\")].var()['Expenditures'])"
   ]
  },
  {
   "cell_type": "markdown",
   "metadata": {},
   "source": [
    "**YOUR EXPLANATION HERE (although you may want to add more markdown cells)**<br>\n",
    "For ages 0-5, 6-12, 13-17, and 18-21 there are more Hispanic residents therefore there is less expenditure per person in those age groups for Hispanics and more expenditure per person for Whites. But for ages 22-50 and 51+ there is more Whites than Hispanic, therefore more expenditure per person for Hispanics and less for Whites. The older ages are the reason the mean of the expeditures between Hispanic and White residents can look more biased towards the White residents.\n",
    "The disadvantage of a mean is its outlier value. By looking at the count/amount of Hispanic and White not Hispanic resdients, we notice that the difference is less than or equal to 25. So now we would filter/group these counts through age groups/ranges. Hispanic residents only accounted for 60 of the residents whose age was 22 and older while White not Hispanic residents accounted for 199, which the difference greater than 3 times. Next, we analyzed which group, in terms of expenditures, created the majority of this older and larger generation. By looking at our table, we see that the majority of the top 50 people in this age group are White not Hispanic. By computing the variance by age and ethnicity, we analyze that there is double the variance in White not Hispanic. This demonstrates that there are a lot of outliers further away from the mean. By simply looking at the table that is grouped by age cohorts, we cannot determine nor clearly see this and that is why there is such a huge difference. By looking at the table that is grouped by age cohorts, we can tell and see that it is true that, on average when they are 22 and older, White not Hispanic and Hispanic groups spend almost the same expenditures. But from this table we do not see that White not Hispanic residents make a large percentage of the older crowd since the mean does not show us this. By creating the tables in this part, we can clearly see that  White not Hispanic residents actually make up 50% of the entire resident population. This means that only 16% of Hispanic residents make that average large expenditure while half of the population (White not Hispanic) is making large expenditures."
   ]
  },
  {
   "cell_type": "raw",
   "metadata": {},
   "source": [
    "## Submission Instructions\n",
    "\n",
    "Once you are finished, follow these steps:\n",
    "\n",
    "1. Restart the kernel and re-run this notebook from beginning to end by going to `Kernel > Restart Kernel and Run All Cells`.\n",
    "\n",
    "2. If this process stops halfway through, that means there was an error. Correct the error and repeat Step 1 until the notebook runs from beginning to end.\n",
    "\n",
    "3. Double check that there is a number next to each code cell and that these numbers are in order.\n",
    "\n",
    "Then, submit your lab as follows:\n",
    "\n",
    "1. Go to `File > Export Notebook As > PDF`.\n",
    "\n",
    "2. Double check that the entire notebook, from beginning to end, is in this PDF file. (If the notebook is cut off, try first exporting the notebook to HTML and printing to PDF.)\n",
    "\n",
    "3. Upload the PDF to Gradescope.\n",
    "4. Demo your lab."
   ]
  },
  {
   "cell_type": "code",
   "execution_count": null,
   "metadata": {},
   "outputs": [],
   "source": []
  }
 ],
 "metadata": {
  "kernelspec": {
   "display_name": "Python 3 (ipykernel)",
   "language": "python",
   "name": "python3"
  },
  "language_info": {
   "codemirror_mode": {
    "name": "ipython",
    "version": 3
   },
   "file_extension": ".py",
   "mimetype": "text/x-python",
   "name": "python",
   "nbconvert_exporter": "python",
   "pygments_lexer": "ipython3",
   "version": "3.9.7"
  }
 },
 "nbformat": 4,
 "nbformat_minor": 4
}
